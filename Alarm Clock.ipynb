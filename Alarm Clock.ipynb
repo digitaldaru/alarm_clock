{
 "cells": [
  {
   "cell_type": "code",
   "execution_count": 9,
   "metadata": {},
   "outputs": [
    {
     "name": "stdout",
     "output_type": "stream",
     "text": [
      "Enter the Date = 11/01/2021\n",
      "Enter the Time =17:38:00\n",
      "Alarm Ringing......\n"
     ]
    }
   ],
   "source": [
    "import os\n",
    "import datetime\n",
    "import time\n",
    "n=1\n",
    "c,b,a=input(\"Enter the Date = \").split(\"/\")\n",
    "hr, minn , sec =input(\"Enter the Time =\").split( \":\" )\n",
    "shedule_date =datetime.date(int(a),int(b),int(c))\n",
    "while n>0:\n",
    "    if time.localtime().tm_hour==int(hr) and time.localtime().tm_min==int(minn) and time.localtime().tm_sec==int(sec) and datetime.date.today()==shedule_date:\n",
    "        os.startfile(\"Enter your location\")\n",
    "        print(\"Alarm Ringing......\")\n",
    "        break\n",
    "else:\n",
    "    n+=1"
   ]
  },
  {
   "cell_type": "code",
   "execution_count": null,
   "metadata": {},
   "outputs": [],
   "source": []
  }
 ],
 "metadata": {
  "kernelspec": {
   "display_name": "Python 3",
   "language": "python",
   "name": "python3"
  },
  "language_info": {
   "codemirror_mode": {
    "name": "ipython",
    "version": 3
   },
   "file_extension": ".py",
   "mimetype": "text/x-python",
   "name": "python",
   "nbconvert_exporter": "python",
   "pygments_lexer": "ipython3",
   "version": "3.8.3"
  }
 },
 "nbformat": 4,
 "nbformat_minor": 4
}
